{
 "cells": [
  {
   "cell_type": "code",
   "execution_count": 14,
   "id": "451f557d",
   "metadata": {},
   "outputs": [],
   "source": [
    "import pandas as pd\n",
    "import numpy as np\n",
    "\n",
    "\n",
    "from sklearn.linear_model import LinearRegression\n",
    "\n",
    "from sklearn.metrics import mean_absolute_error,mean_squared_error,r2_score\n",
    "from sklearn.model_selection import train_test_split"
   ]
  },
  {
   "cell_type": "code",
   "execution_count": 2,
   "id": "5a475e56",
   "metadata": {},
   "outputs": [
    {
     "name": "stdout",
     "output_type": "stream",
     "text": [
      "D:\\DATA SCIENCE\\CLASS NOTES\\Y-PRACTICE\\Prc_WF-4\\CSV_FILE\\Cellphone.xlsx\n"
     ]
    }
   ],
   "source": [
    "import config1"
   ]
  },
  {
   "cell_type": "code",
   "execution_count": 3,
   "id": "7d19463d",
   "metadata": {},
   "outputs": [
    {
     "data": {
      "text/plain": [
       "['ARTIFACTS_FOLDER_PATH',\n",
       " '__builtins__',\n",
       " '__cached__',\n",
       " '__doc__',\n",
       " '__file__',\n",
       " '__loader__',\n",
       " '__name__',\n",
       " '__package__',\n",
       " '__spec__',\n",
       " 'csv_file_path',\n",
       " 'model_file_path',\n",
       " 'os']"
      ]
     },
     "execution_count": 3,
     "metadata": {},
     "output_type": "execute_result"
    }
   ],
   "source": [
    "dir(config1)"
   ]
  },
  {
   "cell_type": "code",
   "execution_count": 5,
   "id": "e4534ed2",
   "metadata": {},
   "outputs": [
    {
     "data": {
      "text/html": [
       "<div>\n",
       "<style scoped>\n",
       "    .dataframe tbody tr th:only-of-type {\n",
       "        vertical-align: middle;\n",
       "    }\n",
       "\n",
       "    .dataframe tbody tr th {\n",
       "        vertical-align: top;\n",
       "    }\n",
       "\n",
       "    .dataframe thead th {\n",
       "        text-align: right;\n",
       "    }\n",
       "</style>\n",
       "<table border=\"1\" class=\"dataframe\">\n",
       "  <thead>\n",
       "    <tr style=\"text-align: right;\">\n",
       "      <th></th>\n",
       "      <th>Product_id</th>\n",
       "      <th>Price</th>\n",
       "      <th>Sale</th>\n",
       "      <th>weight</th>\n",
       "      <th>resoloution</th>\n",
       "      <th>ppi</th>\n",
       "      <th>cpu core</th>\n",
       "      <th>cpu freq</th>\n",
       "      <th>internal mem</th>\n",
       "      <th>ram</th>\n",
       "      <th>RearCam</th>\n",
       "      <th>Front_Cam</th>\n",
       "      <th>battery</th>\n",
       "      <th>thickness</th>\n",
       "    </tr>\n",
       "  </thead>\n",
       "  <tbody>\n",
       "    <tr>\n",
       "      <th>0</th>\n",
       "      <td>203</td>\n",
       "      <td>2357</td>\n",
       "      <td>10</td>\n",
       "      <td>135.0</td>\n",
       "      <td>5.20</td>\n",
       "      <td>424</td>\n",
       "      <td>8</td>\n",
       "      <td>1.350</td>\n",
       "      <td>16.0</td>\n",
       "      <td>3.000</td>\n",
       "      <td>13.00</td>\n",
       "      <td>8.0</td>\n",
       "      <td>2610</td>\n",
       "      <td>7.4</td>\n",
       "    </tr>\n",
       "    <tr>\n",
       "      <th>1</th>\n",
       "      <td>880</td>\n",
       "      <td>1749</td>\n",
       "      <td>10</td>\n",
       "      <td>125.0</td>\n",
       "      <td>4.00</td>\n",
       "      <td>233</td>\n",
       "      <td>2</td>\n",
       "      <td>1.300</td>\n",
       "      <td>4.0</td>\n",
       "      <td>1.000</td>\n",
       "      <td>3.15</td>\n",
       "      <td>0.0</td>\n",
       "      <td>1700</td>\n",
       "      <td>9.9</td>\n",
       "    </tr>\n",
       "    <tr>\n",
       "      <th>2</th>\n",
       "      <td>40</td>\n",
       "      <td>1916</td>\n",
       "      <td>10</td>\n",
       "      <td>110.0</td>\n",
       "      <td>4.70</td>\n",
       "      <td>312</td>\n",
       "      <td>4</td>\n",
       "      <td>1.200</td>\n",
       "      <td>8.0</td>\n",
       "      <td>1.500</td>\n",
       "      <td>13.00</td>\n",
       "      <td>5.0</td>\n",
       "      <td>2000</td>\n",
       "      <td>7.6</td>\n",
       "    </tr>\n",
       "    <tr>\n",
       "      <th>3</th>\n",
       "      <td>99</td>\n",
       "      <td>1315</td>\n",
       "      <td>11</td>\n",
       "      <td>118.5</td>\n",
       "      <td>4.00</td>\n",
       "      <td>233</td>\n",
       "      <td>2</td>\n",
       "      <td>1.300</td>\n",
       "      <td>4.0</td>\n",
       "      <td>0.512</td>\n",
       "      <td>3.15</td>\n",
       "      <td>0.0</td>\n",
       "      <td>1400</td>\n",
       "      <td>11.0</td>\n",
       "    </tr>\n",
       "    <tr>\n",
       "      <th>4</th>\n",
       "      <td>880</td>\n",
       "      <td>1749</td>\n",
       "      <td>11</td>\n",
       "      <td>125.0</td>\n",
       "      <td>4.00</td>\n",
       "      <td>233</td>\n",
       "      <td>2</td>\n",
       "      <td>1.300</td>\n",
       "      <td>4.0</td>\n",
       "      <td>1.000</td>\n",
       "      <td>3.15</td>\n",
       "      <td>0.0</td>\n",
       "      <td>1700</td>\n",
       "      <td>9.9</td>\n",
       "    </tr>\n",
       "    <tr>\n",
       "      <th>...</th>\n",
       "      <td>...</td>\n",
       "      <td>...</td>\n",
       "      <td>...</td>\n",
       "      <td>...</td>\n",
       "      <td>...</td>\n",
       "      <td>...</td>\n",
       "      <td>...</td>\n",
       "      <td>...</td>\n",
       "      <td>...</td>\n",
       "      <td>...</td>\n",
       "      <td>...</td>\n",
       "      <td>...</td>\n",
       "      <td>...</td>\n",
       "      <td>...</td>\n",
       "    </tr>\n",
       "    <tr>\n",
       "      <th>156</th>\n",
       "      <td>1206</td>\n",
       "      <td>3551</td>\n",
       "      <td>4638</td>\n",
       "      <td>178.0</td>\n",
       "      <td>5.46</td>\n",
       "      <td>538</td>\n",
       "      <td>4</td>\n",
       "      <td>1.875</td>\n",
       "      <td>128.0</td>\n",
       "      <td>6.000</td>\n",
       "      <td>12.00</td>\n",
       "      <td>16.0</td>\n",
       "      <td>4080</td>\n",
       "      <td>8.4</td>\n",
       "    </tr>\n",
       "    <tr>\n",
       "      <th>157</th>\n",
       "      <td>1296</td>\n",
       "      <td>3211</td>\n",
       "      <td>8016</td>\n",
       "      <td>170.0</td>\n",
       "      <td>5.50</td>\n",
       "      <td>534</td>\n",
       "      <td>4</td>\n",
       "      <td>1.975</td>\n",
       "      <td>128.0</td>\n",
       "      <td>6.000</td>\n",
       "      <td>20.00</td>\n",
       "      <td>8.0</td>\n",
       "      <td>3400</td>\n",
       "      <td>7.9</td>\n",
       "    </tr>\n",
       "    <tr>\n",
       "      <th>158</th>\n",
       "      <td>856</td>\n",
       "      <td>3260</td>\n",
       "      <td>8809</td>\n",
       "      <td>150.0</td>\n",
       "      <td>5.50</td>\n",
       "      <td>401</td>\n",
       "      <td>8</td>\n",
       "      <td>2.200</td>\n",
       "      <td>64.0</td>\n",
       "      <td>4.000</td>\n",
       "      <td>20.00</td>\n",
       "      <td>20.0</td>\n",
       "      <td>3000</td>\n",
       "      <td>6.8</td>\n",
       "    </tr>\n",
       "    <tr>\n",
       "      <th>159</th>\n",
       "      <td>1296</td>\n",
       "      <td>3211</td>\n",
       "      <td>8946</td>\n",
       "      <td>170.0</td>\n",
       "      <td>5.50</td>\n",
       "      <td>534</td>\n",
       "      <td>4</td>\n",
       "      <td>1.975</td>\n",
       "      <td>128.0</td>\n",
       "      <td>6.000</td>\n",
       "      <td>20.00</td>\n",
       "      <td>8.0</td>\n",
       "      <td>3400</td>\n",
       "      <td>7.9</td>\n",
       "    </tr>\n",
       "    <tr>\n",
       "      <th>160</th>\n",
       "      <td>1131</td>\n",
       "      <td>2536</td>\n",
       "      <td>9807</td>\n",
       "      <td>202.0</td>\n",
       "      <td>6.00</td>\n",
       "      <td>367</td>\n",
       "      <td>8</td>\n",
       "      <td>1.500</td>\n",
       "      <td>16.0</td>\n",
       "      <td>3.000</td>\n",
       "      <td>21.50</td>\n",
       "      <td>16.0</td>\n",
       "      <td>2700</td>\n",
       "      <td>8.4</td>\n",
       "    </tr>\n",
       "  </tbody>\n",
       "</table>\n",
       "<p>161 rows × 14 columns</p>\n",
       "</div>"
      ],
      "text/plain": [
       "     Product_id  Price  Sale  weight  resoloution  ppi  cpu core  cpu freq  \\\n",
       "0           203   2357    10   135.0         5.20  424         8     1.350   \n",
       "1           880   1749    10   125.0         4.00  233         2     1.300   \n",
       "2            40   1916    10   110.0         4.70  312         4     1.200   \n",
       "3            99   1315    11   118.5         4.00  233         2     1.300   \n",
       "4           880   1749    11   125.0         4.00  233         2     1.300   \n",
       "..          ...    ...   ...     ...          ...  ...       ...       ...   \n",
       "156        1206   3551  4638   178.0         5.46  538         4     1.875   \n",
       "157        1296   3211  8016   170.0         5.50  534         4     1.975   \n",
       "158         856   3260  8809   150.0         5.50  401         8     2.200   \n",
       "159        1296   3211  8946   170.0         5.50  534         4     1.975   \n",
       "160        1131   2536  9807   202.0         6.00  367         8     1.500   \n",
       "\n",
       "     internal mem    ram  RearCam  Front_Cam  battery  thickness  \n",
       "0            16.0  3.000    13.00        8.0     2610        7.4  \n",
       "1             4.0  1.000     3.15        0.0     1700        9.9  \n",
       "2             8.0  1.500    13.00        5.0     2000        7.6  \n",
       "3             4.0  0.512     3.15        0.0     1400       11.0  \n",
       "4             4.0  1.000     3.15        0.0     1700        9.9  \n",
       "..            ...    ...      ...        ...      ...        ...  \n",
       "156         128.0  6.000    12.00       16.0     4080        8.4  \n",
       "157         128.0  6.000    20.00        8.0     3400        7.9  \n",
       "158          64.0  4.000    20.00       20.0     3000        6.8  \n",
       "159         128.0  6.000    20.00        8.0     3400        7.9  \n",
       "160          16.0  3.000    21.50       16.0     2700        8.4  \n",
       "\n",
       "[161 rows x 14 columns]"
      ]
     },
     "execution_count": 5,
     "metadata": {},
     "output_type": "execute_result"
    }
   ],
   "source": [
    "df= pd.read_excel(config1.csv_file_path)\n",
    "df"
   ]
  },
  {
   "cell_type": "code",
   "execution_count": 6,
   "id": "891cd1d1",
   "metadata": {},
   "outputs": [
    {
     "name": "stdout",
     "output_type": "stream",
     "text": [
      "<class 'pandas.core.frame.DataFrame'>\n",
      "RangeIndex: 161 entries, 0 to 160\n",
      "Data columns (total 14 columns):\n",
      " #   Column        Non-Null Count  Dtype  \n",
      "---  ------        --------------  -----  \n",
      " 0   Product_id    161 non-null    int64  \n",
      " 1   Price         161 non-null    int64  \n",
      " 2   Sale          161 non-null    int64  \n",
      " 3   weight        161 non-null    float64\n",
      " 4   resoloution   161 non-null    float64\n",
      " 5   ppi           161 non-null    int64  \n",
      " 6   cpu core      161 non-null    int64  \n",
      " 7   cpu freq      161 non-null    float64\n",
      " 8   internal mem  161 non-null    float64\n",
      " 9   ram           161 non-null    float64\n",
      " 10  RearCam       161 non-null    float64\n",
      " 11  Front_Cam     161 non-null    float64\n",
      " 12  battery       161 non-null    int64  \n",
      " 13  thickness     161 non-null    float64\n",
      "dtypes: float64(8), int64(6)\n",
      "memory usage: 17.7 KB\n"
     ]
    }
   ],
   "source": [
    "df.info()"
   ]
  },
  {
   "cell_type": "code",
   "execution_count": 7,
   "id": "d98ee4ed",
   "metadata": {},
   "outputs": [
    {
     "data": {
      "text/plain": [
       "Product_id      0\n",
       "Price           0\n",
       "Sale            0\n",
       "weight          0\n",
       "resoloution     0\n",
       "ppi             0\n",
       "cpu core        0\n",
       "cpu freq        0\n",
       "internal mem    0\n",
       "ram             0\n",
       "RearCam         0\n",
       "Front_Cam       0\n",
       "battery         0\n",
       "thickness       0\n",
       "dtype: int64"
      ]
     },
     "execution_count": 7,
     "metadata": {},
     "output_type": "execute_result"
    }
   ],
   "source": [
    "df.isna().sum()"
   ]
  },
  {
   "cell_type": "code",
   "execution_count": 44,
   "id": "0cb9a691",
   "metadata": {},
   "outputs": [],
   "source": [
    "df.rename({'cpu core':'cpu_core','cpu freq':'cpu_freq','internal mem':'internal_mem'},axis=1,inplace=True)"
   ]
  },
  {
   "cell_type": "code",
   "execution_count": 9,
   "id": "10f213e3",
   "metadata": {},
   "outputs": [
    {
     "data": {
      "text/plain": [
       "(14,)"
      ]
     },
     "execution_count": 9,
     "metadata": {},
     "output_type": "execute_result"
    }
   ],
   "source": [
    "df.columns.shape"
   ]
  },
  {
   "cell_type": "code",
   "execution_count": 11,
   "id": "d29c60d5",
   "metadata": {},
   "outputs": [
    {
     "data": {
      "text/plain": [
       "14"
      ]
     },
     "execution_count": 11,
     "metadata": {},
     "output_type": "execute_result"
    }
   ],
   "source": [
    "df.columns.nunique()"
   ]
  },
  {
   "cell_type": "code",
   "execution_count": 40,
   "id": "6da116de",
   "metadata": {},
   "outputs": [
    {
     "data": {
      "text/html": [
       "<div>\n",
       "<style scoped>\n",
       "    .dataframe tbody tr th:only-of-type {\n",
       "        vertical-align: middle;\n",
       "    }\n",
       "\n",
       "    .dataframe tbody tr th {\n",
       "        vertical-align: top;\n",
       "    }\n",
       "\n",
       "    .dataframe thead th {\n",
       "        text-align: right;\n",
       "    }\n",
       "</style>\n",
       "<table border=\"1\" class=\"dataframe\">\n",
       "  <thead>\n",
       "    <tr style=\"text-align: right;\">\n",
       "      <th></th>\n",
       "      <th>Product_id</th>\n",
       "      <th>Price</th>\n",
       "      <th>Sale</th>\n",
       "      <th>weight</th>\n",
       "      <th>resoloution</th>\n",
       "      <th>ppi</th>\n",
       "      <th>cpu_core</th>\n",
       "      <th>cpu_freq</th>\n",
       "      <th>internal mem</th>\n",
       "      <th>ram</th>\n",
       "      <th>RearCam</th>\n",
       "      <th>Front_Cam</th>\n",
       "      <th>battery</th>\n",
       "      <th>thickness</th>\n",
       "    </tr>\n",
       "  </thead>\n",
       "  <tbody>\n",
       "    <tr>\n",
       "      <th>Product_id</th>\n",
       "      <td>1.000000</td>\n",
       "      <td>0.165136</td>\n",
       "      <td>0.218548</td>\n",
       "      <td>0.035869</td>\n",
       "      <td>-0.017817</td>\n",
       "      <td>0.207271</td>\n",
       "      <td>-0.008634</td>\n",
       "      <td>0.092428</td>\n",
       "      <td>0.261186</td>\n",
       "      <td>0.236194</td>\n",
       "      <td>0.172812</td>\n",
       "      <td>0.071020</td>\n",
       "      <td>0.031745</td>\n",
       "      <td>0.039807</td>\n",
       "    </tr>\n",
       "    <tr>\n",
       "      <th>Price</th>\n",
       "      <td>0.165136</td>\n",
       "      <td>1.000000</td>\n",
       "      <td>0.273263</td>\n",
       "      <td>0.144555</td>\n",
       "      <td>0.404010</td>\n",
       "      <td>0.817614</td>\n",
       "      <td>0.686811</td>\n",
       "      <td>0.727383</td>\n",
       "      <td>0.776738</td>\n",
       "      <td>0.896915</td>\n",
       "      <td>0.739538</td>\n",
       "      <td>0.675286</td>\n",
       "      <td>0.559946</td>\n",
       "      <td>-0.716773</td>\n",
       "    </tr>\n",
       "    <tr>\n",
       "      <th>Sale</th>\n",
       "      <td>0.218548</td>\n",
       "      <td>0.273263</td>\n",
       "      <td>1.000000</td>\n",
       "      <td>0.016114</td>\n",
       "      <td>0.017154</td>\n",
       "      <td>0.235896</td>\n",
       "      <td>0.069517</td>\n",
       "      <td>0.099133</td>\n",
       "      <td>0.489308</td>\n",
       "      <td>0.373127</td>\n",
       "      <td>0.292164</td>\n",
       "      <td>0.437233</td>\n",
       "      <td>0.120338</td>\n",
       "      <td>-0.047991</td>\n",
       "    </tr>\n",
       "    <tr>\n",
       "      <th>weight</th>\n",
       "      <td>0.035869</td>\n",
       "      <td>0.144555</td>\n",
       "      <td>0.016114</td>\n",
       "      <td>1.000000</td>\n",
       "      <td>0.890416</td>\n",
       "      <td>-0.054683</td>\n",
       "      <td>0.216257</td>\n",
       "      <td>0.222730</td>\n",
       "      <td>0.098849</td>\n",
       "      <td>0.149283</td>\n",
       "      <td>-0.029448</td>\n",
       "      <td>-0.005971</td>\n",
       "      <td>0.833783</td>\n",
       "      <td>-0.185262</td>\n",
       "    </tr>\n",
       "    <tr>\n",
       "      <th>resoloution</th>\n",
       "      <td>-0.017817</td>\n",
       "      <td>0.404010</td>\n",
       "      <td>0.017154</td>\n",
       "      <td>0.890416</td>\n",
       "      <td>1.000000</td>\n",
       "      <td>0.181292</td>\n",
       "      <td>0.472226</td>\n",
       "      <td>0.505454</td>\n",
       "      <td>0.202660</td>\n",
       "      <td>0.327216</td>\n",
       "      <td>0.249892</td>\n",
       "      <td>0.202720</td>\n",
       "      <td>0.843462</td>\n",
       "      <td>-0.533708</td>\n",
       "    </tr>\n",
       "    <tr>\n",
       "      <th>ppi</th>\n",
       "      <td>0.207271</td>\n",
       "      <td>0.817614</td>\n",
       "      <td>0.235896</td>\n",
       "      <td>-0.054683</td>\n",
       "      <td>0.181292</td>\n",
       "      <td>1.000000</td>\n",
       "      <td>0.487990</td>\n",
       "      <td>0.713168</td>\n",
       "      <td>0.618560</td>\n",
       "      <td>0.748724</td>\n",
       "      <td>0.774008</td>\n",
       "      <td>0.491371</td>\n",
       "      <td>0.302517</td>\n",
       "      <td>-0.496791</td>\n",
       "    </tr>\n",
       "    <tr>\n",
       "      <th>cpu_core</th>\n",
       "      <td>-0.008634</td>\n",
       "      <td>0.686811</td>\n",
       "      <td>0.069517</td>\n",
       "      <td>0.216257</td>\n",
       "      <td>0.472226</td>\n",
       "      <td>0.487990</td>\n",
       "      <td>1.000000</td>\n",
       "      <td>0.491519</td>\n",
       "      <td>0.276251</td>\n",
       "      <td>0.483128</td>\n",
       "      <td>0.611353</td>\n",
       "      <td>0.586698</td>\n",
       "      <td>0.459728</td>\n",
       "      <td>-0.697935</td>\n",
       "    </tr>\n",
       "    <tr>\n",
       "      <th>cpu_freq</th>\n",
       "      <td>0.092428</td>\n",
       "      <td>0.727383</td>\n",
       "      <td>0.099133</td>\n",
       "      <td>0.222730</td>\n",
       "      <td>0.505454</td>\n",
       "      <td>0.713168</td>\n",
       "      <td>0.491519</td>\n",
       "      <td>1.000000</td>\n",
       "      <td>0.441400</td>\n",
       "      <td>0.633547</td>\n",
       "      <td>0.625104</td>\n",
       "      <td>0.358319</td>\n",
       "      <td>0.473137</td>\n",
       "      <td>-0.614458</td>\n",
       "    </tr>\n",
       "    <tr>\n",
       "      <th>internal mem</th>\n",
       "      <td>0.261186</td>\n",
       "      <td>0.776738</td>\n",
       "      <td>0.489308</td>\n",
       "      <td>0.098849</td>\n",
       "      <td>0.202660</td>\n",
       "      <td>0.618560</td>\n",
       "      <td>0.276251</td>\n",
       "      <td>0.441400</td>\n",
       "      <td>1.000000</td>\n",
       "      <td>0.875354</td>\n",
       "      <td>0.451917</td>\n",
       "      <td>0.555733</td>\n",
       "      <td>0.461506</td>\n",
       "      <td>-0.367412</td>\n",
       "    </tr>\n",
       "    <tr>\n",
       "      <th>ram</th>\n",
       "      <td>0.236194</td>\n",
       "      <td>0.896915</td>\n",
       "      <td>0.373127</td>\n",
       "      <td>0.149283</td>\n",
       "      <td>0.327216</td>\n",
       "      <td>0.748724</td>\n",
       "      <td>0.483128</td>\n",
       "      <td>0.633547</td>\n",
       "      <td>0.875354</td>\n",
       "      <td>1.000000</td>\n",
       "      <td>0.648073</td>\n",
       "      <td>0.647470</td>\n",
       "      <td>0.541001</td>\n",
       "      <td>-0.521074</td>\n",
       "    </tr>\n",
       "    <tr>\n",
       "      <th>RearCam</th>\n",
       "      <td>0.172812</td>\n",
       "      <td>0.739538</td>\n",
       "      <td>0.292164</td>\n",
       "      <td>-0.029448</td>\n",
       "      <td>0.249892</td>\n",
       "      <td>0.774008</td>\n",
       "      <td>0.611353</td>\n",
       "      <td>0.625104</td>\n",
       "      <td>0.451917</td>\n",
       "      <td>0.648073</td>\n",
       "      <td>1.000000</td>\n",
       "      <td>0.596374</td>\n",
       "      <td>0.287821</td>\n",
       "      <td>-0.550998</td>\n",
       "    </tr>\n",
       "    <tr>\n",
       "      <th>Front_Cam</th>\n",
       "      <td>0.071020</td>\n",
       "      <td>0.675286</td>\n",
       "      <td>0.437233</td>\n",
       "      <td>-0.005971</td>\n",
       "      <td>0.202720</td>\n",
       "      <td>0.491371</td>\n",
       "      <td>0.586698</td>\n",
       "      <td>0.358319</td>\n",
       "      <td>0.555733</td>\n",
       "      <td>0.647470</td>\n",
       "      <td>0.596374</td>\n",
       "      <td>1.000000</td>\n",
       "      <td>0.295283</td>\n",
       "      <td>-0.493542</td>\n",
       "    </tr>\n",
       "    <tr>\n",
       "      <th>battery</th>\n",
       "      <td>0.031745</td>\n",
       "      <td>0.559946</td>\n",
       "      <td>0.120338</td>\n",
       "      <td>0.833783</td>\n",
       "      <td>0.843462</td>\n",
       "      <td>0.302517</td>\n",
       "      <td>0.459728</td>\n",
       "      <td>0.473137</td>\n",
       "      <td>0.461506</td>\n",
       "      <td>0.541001</td>\n",
       "      <td>0.287821</td>\n",
       "      <td>0.295283</td>\n",
       "      <td>1.000000</td>\n",
       "      <td>-0.412682</td>\n",
       "    </tr>\n",
       "    <tr>\n",
       "      <th>thickness</th>\n",
       "      <td>0.039807</td>\n",
       "      <td>-0.716773</td>\n",
       "      <td>-0.047991</td>\n",
       "      <td>-0.185262</td>\n",
       "      <td>-0.533708</td>\n",
       "      <td>-0.496791</td>\n",
       "      <td>-0.697935</td>\n",
       "      <td>-0.614458</td>\n",
       "      <td>-0.367412</td>\n",
       "      <td>-0.521074</td>\n",
       "      <td>-0.550998</td>\n",
       "      <td>-0.493542</td>\n",
       "      <td>-0.412682</td>\n",
       "      <td>1.000000</td>\n",
       "    </tr>\n",
       "  </tbody>\n",
       "</table>\n",
       "</div>"
      ],
      "text/plain": [
       "              Product_id     Price      Sale    weight  resoloution       ppi  \\\n",
       "Product_id      1.000000  0.165136  0.218548  0.035869    -0.017817  0.207271   \n",
       "Price           0.165136  1.000000  0.273263  0.144555     0.404010  0.817614   \n",
       "Sale            0.218548  0.273263  1.000000  0.016114     0.017154  0.235896   \n",
       "weight          0.035869  0.144555  0.016114  1.000000     0.890416 -0.054683   \n",
       "resoloution    -0.017817  0.404010  0.017154  0.890416     1.000000  0.181292   \n",
       "ppi             0.207271  0.817614  0.235896 -0.054683     0.181292  1.000000   \n",
       "cpu_core       -0.008634  0.686811  0.069517  0.216257     0.472226  0.487990   \n",
       "cpu_freq        0.092428  0.727383  0.099133  0.222730     0.505454  0.713168   \n",
       "internal mem    0.261186  0.776738  0.489308  0.098849     0.202660  0.618560   \n",
       "ram             0.236194  0.896915  0.373127  0.149283     0.327216  0.748724   \n",
       "RearCam         0.172812  0.739538  0.292164 -0.029448     0.249892  0.774008   \n",
       "Front_Cam       0.071020  0.675286  0.437233 -0.005971     0.202720  0.491371   \n",
       "battery         0.031745  0.559946  0.120338  0.833783     0.843462  0.302517   \n",
       "thickness       0.039807 -0.716773 -0.047991 -0.185262    -0.533708 -0.496791   \n",
       "\n",
       "              cpu_core  cpu_freq  internal mem       ram   RearCam  Front_Cam  \\\n",
       "Product_id   -0.008634  0.092428      0.261186  0.236194  0.172812   0.071020   \n",
       "Price         0.686811  0.727383      0.776738  0.896915  0.739538   0.675286   \n",
       "Sale          0.069517  0.099133      0.489308  0.373127  0.292164   0.437233   \n",
       "weight        0.216257  0.222730      0.098849  0.149283 -0.029448  -0.005971   \n",
       "resoloution   0.472226  0.505454      0.202660  0.327216  0.249892   0.202720   \n",
       "ppi           0.487990  0.713168      0.618560  0.748724  0.774008   0.491371   \n",
       "cpu_core      1.000000  0.491519      0.276251  0.483128  0.611353   0.586698   \n",
       "cpu_freq      0.491519  1.000000      0.441400  0.633547  0.625104   0.358319   \n",
       "internal mem  0.276251  0.441400      1.000000  0.875354  0.451917   0.555733   \n",
       "ram           0.483128  0.633547      0.875354  1.000000  0.648073   0.647470   \n",
       "RearCam       0.611353  0.625104      0.451917  0.648073  1.000000   0.596374   \n",
       "Front_Cam     0.586698  0.358319      0.555733  0.647470  0.596374   1.000000   \n",
       "battery       0.459728  0.473137      0.461506  0.541001  0.287821   0.295283   \n",
       "thickness    -0.697935 -0.614458     -0.367412 -0.521074 -0.550998  -0.493542   \n",
       "\n",
       "               battery  thickness  \n",
       "Product_id    0.031745   0.039807  \n",
       "Price         0.559946  -0.716773  \n",
       "Sale          0.120338  -0.047991  \n",
       "weight        0.833783  -0.185262  \n",
       "resoloution   0.843462  -0.533708  \n",
       "ppi           0.302517  -0.496791  \n",
       "cpu_core      0.459728  -0.697935  \n",
       "cpu_freq      0.473137  -0.614458  \n",
       "internal mem  0.461506  -0.367412  \n",
       "ram           0.541001  -0.521074  \n",
       "RearCam       0.287821  -0.550998  \n",
       "Front_Cam     0.295283  -0.493542  \n",
       "battery       1.000000  -0.412682  \n",
       "thickness    -0.412682   1.000000  "
      ]
     },
     "execution_count": 40,
     "metadata": {},
     "output_type": "execute_result"
    }
   ],
   "source": [
    "# df.corr()"
   ]
  },
  {
   "cell_type": "code",
   "execution_count": 45,
   "id": "debde8f2",
   "metadata": {},
   "outputs": [],
   "source": [
    "x=df.drop(['Product_id','Price'],axis=1)\n",
    "y=df['Price']"
   ]
  },
  {
   "cell_type": "code",
   "execution_count": 18,
   "id": "7c601345",
   "metadata": {},
   "outputs": [],
   "source": [
    "x_train,x_test,y_train,y_test =train_test_split(x,y,test_size=0.2,random_state=32)"
   ]
  },
  {
   "cell_type": "code",
   "execution_count": 19,
   "id": "308f7a1d",
   "metadata": {},
   "outputs": [],
   "source": [
    "lin_reg= LinearRegression()"
   ]
  },
  {
   "cell_type": "code",
   "execution_count": 20,
   "id": "31869402",
   "metadata": {},
   "outputs": [
    {
     "data": {
      "text/html": [
       "<style>#sk-container-id-1 {color: black;background-color: white;}#sk-container-id-1 pre{padding: 0;}#sk-container-id-1 div.sk-toggleable {background-color: white;}#sk-container-id-1 label.sk-toggleable__label {cursor: pointer;display: block;width: 100%;margin-bottom: 0;padding: 0.3em;box-sizing: border-box;text-align: center;}#sk-container-id-1 label.sk-toggleable__label-arrow:before {content: \"▸\";float: left;margin-right: 0.25em;color: #696969;}#sk-container-id-1 label.sk-toggleable__label-arrow:hover:before {color: black;}#sk-container-id-1 div.sk-estimator:hover label.sk-toggleable__label-arrow:before {color: black;}#sk-container-id-1 div.sk-toggleable__content {max-height: 0;max-width: 0;overflow: hidden;text-align: left;background-color: #f0f8ff;}#sk-container-id-1 div.sk-toggleable__content pre {margin: 0.2em;color: black;border-radius: 0.25em;background-color: #f0f8ff;}#sk-container-id-1 input.sk-toggleable__control:checked~div.sk-toggleable__content {max-height: 200px;max-width: 100%;overflow: auto;}#sk-container-id-1 input.sk-toggleable__control:checked~label.sk-toggleable__label-arrow:before {content: \"▾\";}#sk-container-id-1 div.sk-estimator input.sk-toggleable__control:checked~label.sk-toggleable__label {background-color: #d4ebff;}#sk-container-id-1 div.sk-label input.sk-toggleable__control:checked~label.sk-toggleable__label {background-color: #d4ebff;}#sk-container-id-1 input.sk-hidden--visually {border: 0;clip: rect(1px 1px 1px 1px);clip: rect(1px, 1px, 1px, 1px);height: 1px;margin: -1px;overflow: hidden;padding: 0;position: absolute;width: 1px;}#sk-container-id-1 div.sk-estimator {font-family: monospace;background-color: #f0f8ff;border: 1px dotted black;border-radius: 0.25em;box-sizing: border-box;margin-bottom: 0.5em;}#sk-container-id-1 div.sk-estimator:hover {background-color: #d4ebff;}#sk-container-id-1 div.sk-parallel-item::after {content: \"\";width: 100%;border-bottom: 1px solid gray;flex-grow: 1;}#sk-container-id-1 div.sk-label:hover label.sk-toggleable__label {background-color: #d4ebff;}#sk-container-id-1 div.sk-serial::before {content: \"\";position: absolute;border-left: 1px solid gray;box-sizing: border-box;top: 0;bottom: 0;left: 50%;z-index: 0;}#sk-container-id-1 div.sk-serial {display: flex;flex-direction: column;align-items: center;background-color: white;padding-right: 0.2em;padding-left: 0.2em;position: relative;}#sk-container-id-1 div.sk-item {position: relative;z-index: 1;}#sk-container-id-1 div.sk-parallel {display: flex;align-items: stretch;justify-content: center;background-color: white;position: relative;}#sk-container-id-1 div.sk-item::before, #sk-container-id-1 div.sk-parallel-item::before {content: \"\";position: absolute;border-left: 1px solid gray;box-sizing: border-box;top: 0;bottom: 0;left: 50%;z-index: -1;}#sk-container-id-1 div.sk-parallel-item {display: flex;flex-direction: column;z-index: 1;position: relative;background-color: white;}#sk-container-id-1 div.sk-parallel-item:first-child::after {align-self: flex-end;width: 50%;}#sk-container-id-1 div.sk-parallel-item:last-child::after {align-self: flex-start;width: 50%;}#sk-container-id-1 div.sk-parallel-item:only-child::after {width: 0;}#sk-container-id-1 div.sk-dashed-wrapped {border: 1px dashed gray;margin: 0 0.4em 0.5em 0.4em;box-sizing: border-box;padding-bottom: 0.4em;background-color: white;}#sk-container-id-1 div.sk-label label {font-family: monospace;font-weight: bold;display: inline-block;line-height: 1.2em;}#sk-container-id-1 div.sk-label-container {text-align: center;}#sk-container-id-1 div.sk-container {/* jupyter's `normalize.less` sets `[hidden] { display: none; }` but bootstrap.min.css set `[hidden] { display: none !important; }` so we also need the `!important` here to be able to override the default hidden behavior on the sphinx rendered scikit-learn.org. See: https://github.com/scikit-learn/scikit-learn/issues/21755 */display: inline-block !important;position: relative;}#sk-container-id-1 div.sk-text-repr-fallback {display: none;}</style><div id=\"sk-container-id-1\" class=\"sk-top-container\"><div class=\"sk-text-repr-fallback\"><pre>LinearRegression()</pre><b>In a Jupyter environment, please rerun this cell to show the HTML representation or trust the notebook. <br />On GitHub, the HTML representation is unable to render, please try loading this page with nbviewer.org.</b></div><div class=\"sk-container\" hidden><div class=\"sk-item\"><div class=\"sk-estimator sk-toggleable\"><input class=\"sk-toggleable__control sk-hidden--visually\" id=\"sk-estimator-id-1\" type=\"checkbox\" checked><label for=\"sk-estimator-id-1\" class=\"sk-toggleable__label sk-toggleable__label-arrow\">LinearRegression</label><div class=\"sk-toggleable__content\"><pre>LinearRegression()</pre></div></div></div></div></div>"
      ],
      "text/plain": [
       "LinearRegression()"
      ]
     },
     "execution_count": 20,
     "metadata": {},
     "output_type": "execute_result"
    }
   ],
   "source": [
    "lin_reg.fit(x_train,y_train)"
   ]
  },
  {
   "cell_type": "code",
   "execution_count": 21,
   "id": "7febd311",
   "metadata": {},
   "outputs": [],
   "source": [
    "y_pred_train = lin_reg.predict(x_train)"
   ]
  },
  {
   "cell_type": "code",
   "execution_count": 22,
   "id": "50223b81",
   "metadata": {},
   "outputs": [
    {
     "data": {
      "text/plain": [
       "55     1777\n",
       "108    1676\n",
       "116    3287\n",
       "73     3116\n",
       "38     1777\n",
       "Name: Price, dtype: int64"
      ]
     },
     "execution_count": 22,
     "metadata": {},
     "output_type": "execute_result"
    }
   ],
   "source": [
    "y_train[10:15]"
   ]
  },
  {
   "cell_type": "code",
   "execution_count": 23,
   "id": "ad4af734",
   "metadata": {},
   "outputs": [
    {
     "data": {
      "text/plain": [
       "array([1533.22027053, 1870.06955353, 3226.15426285, 3216.3744874 ,\n",
       "       1533.45377106])"
      ]
     },
     "execution_count": 23,
     "metadata": {},
     "output_type": "execute_result"
    }
   ],
   "source": [
    "y_pred_train[10:15]"
   ]
  },
  {
   "cell_type": "code",
   "execution_count": null,
   "id": "3f182b40",
   "metadata": {},
   "outputs": [],
   "source": []
  },
  {
   "cell_type": "code",
   "execution_count": 46,
   "id": "b0bb9ee7",
   "metadata": {},
   "outputs": [
    {
     "name": "stdout",
     "output_type": "stream",
     "text": [
      "24059.408717104536\n",
      "155.11095614786382\n",
      "129.61313636172926\n",
      "0.9590923327558867\n"
     ]
    }
   ],
   "source": [
    "mse = mean_squared_error(y_train,y_pred_train)\n",
    "\n",
    "rmse = np.sqrt(mse)\n",
    "\n",
    "mab=mean_absolute_error(y_train,y_pred_train)\n",
    "\n",
    "r_sqr = r2_score(y_train,y_pred_train)\n",
    "\n",
    "\n",
    "print(mse)\n",
    "print(rmse)\n",
    "print(mab)\n",
    "print(r_sqr)"
   ]
  },
  {
   "cell_type": "code",
   "execution_count": 25,
   "id": "e4afacb9",
   "metadata": {},
   "outputs": [],
   "source": [
    "y_pred_test = lin_reg.predict(x_test)"
   ]
  },
  {
   "cell_type": "code",
   "execution_count": 26,
   "id": "88c7eca8",
   "metadata": {},
   "outputs": [
    {
     "data": {
      "text/plain": [
       "131    1357\n",
       "91     1831\n",
       "21     2392\n",
       "144    1921\n",
       "156    3551\n",
       "Name: Price, dtype: int64"
      ]
     },
     "execution_count": 26,
     "metadata": {},
     "output_type": "execute_result"
    }
   ],
   "source": [
    "y_test[10:15]"
   ]
  },
  {
   "cell_type": "code",
   "execution_count": 27,
   "id": "94f21337",
   "metadata": {},
   "outputs": [
    {
     "data": {
      "text/plain": [
       "array([1409.57061725, 1881.79046447, 2777.34432814, 1789.67461237,\n",
       "       3637.92766268])"
      ]
     },
     "execution_count": 27,
     "metadata": {},
     "output_type": "execute_result"
    }
   ],
   "source": [
    "y_pred_test[10:15]"
   ]
  },
  {
   "cell_type": "code",
   "execution_count": 29,
   "id": "1c51bbbf",
   "metadata": {},
   "outputs": [],
   "source": [
    "# testing data evalution\n",
    "\n",
    "mse= mean_squared_error(y_test,y_pred_test)\n",
    "\n",
    "rmse = np.sqrt(mse)\n",
    "\n",
    "mab= mean_absolute_error(y_test,y_pred_test)\n",
    "\n",
    "\n",
    "r_sqr = r2_score(y_test,y_pred_test)"
   ]
  },
  {
   "cell_type": "code",
   "execution_count": 30,
   "id": "ae9c7e33",
   "metadata": {},
   "outputs": [
    {
     "name": "stdout",
     "output_type": "stream",
     "text": [
      "44999.64660825058\n",
      "212.13120140198748\n",
      "166.33303381738992\n",
      "0.922313098985676\n"
     ]
    }
   ],
   "source": [
    "print(mse)\n",
    "print(rmse)\n",
    "print(mab)\n",
    "print(r_sqr)"
   ]
  },
  {
   "cell_type": "code",
   "execution_count": 47,
   "id": "c2f3df4f",
   "metadata": {},
   "outputs": [
    {
     "data": {
      "text/html": [
       "<div>\n",
       "<style scoped>\n",
       "    .dataframe tbody tr th:only-of-type {\n",
       "        vertical-align: middle;\n",
       "    }\n",
       "\n",
       "    .dataframe tbody tr th {\n",
       "        vertical-align: top;\n",
       "    }\n",
       "\n",
       "    .dataframe thead th {\n",
       "        text-align: right;\n",
       "    }\n",
       "</style>\n",
       "<table border=\"1\" class=\"dataframe\">\n",
       "  <thead>\n",
       "    <tr style=\"text-align: right;\">\n",
       "      <th></th>\n",
       "      <th>0</th>\n",
       "    </tr>\n",
       "  </thead>\n",
       "  <tbody>\n",
       "    <tr>\n",
       "      <th>Sale</th>\n",
       "      <td>10.00</td>\n",
       "    </tr>\n",
       "    <tr>\n",
       "      <th>weight</th>\n",
       "      <td>135.00</td>\n",
       "    </tr>\n",
       "    <tr>\n",
       "      <th>resoloution</th>\n",
       "      <td>5.20</td>\n",
       "    </tr>\n",
       "    <tr>\n",
       "      <th>ppi</th>\n",
       "      <td>424.00</td>\n",
       "    </tr>\n",
       "    <tr>\n",
       "      <th>cpu_core</th>\n",
       "      <td>8.00</td>\n",
       "    </tr>\n",
       "    <tr>\n",
       "      <th>cpu_freq</th>\n",
       "      <td>1.35</td>\n",
       "    </tr>\n",
       "    <tr>\n",
       "      <th>internal_mem</th>\n",
       "      <td>16.00</td>\n",
       "    </tr>\n",
       "    <tr>\n",
       "      <th>ram</th>\n",
       "      <td>3.00</td>\n",
       "    </tr>\n",
       "    <tr>\n",
       "      <th>RearCam</th>\n",
       "      <td>13.00</td>\n",
       "    </tr>\n",
       "    <tr>\n",
       "      <th>Front_Cam</th>\n",
       "      <td>8.00</td>\n",
       "    </tr>\n",
       "    <tr>\n",
       "      <th>battery</th>\n",
       "      <td>2610.00</td>\n",
       "    </tr>\n",
       "    <tr>\n",
       "      <th>thickness</th>\n",
       "      <td>7.40</td>\n",
       "    </tr>\n",
       "  </tbody>\n",
       "</table>\n",
       "</div>"
      ],
      "text/plain": [
       "                    0\n",
       "Sale            10.00\n",
       "weight         135.00\n",
       "resoloution      5.20\n",
       "ppi            424.00\n",
       "cpu_core         8.00\n",
       "cpu_freq         1.35\n",
       "internal_mem    16.00\n",
       "ram              3.00\n",
       "RearCam         13.00\n",
       "Front_Cam        8.00\n",
       "battery       2610.00\n",
       "thickness        7.40"
      ]
     },
     "execution_count": 47,
     "metadata": {},
     "output_type": "execute_result"
    }
   ],
   "source": [
    "x.head(1).T"
   ]
  },
  {
   "cell_type": "code",
   "execution_count": 49,
   "id": "d5adf62c",
   "metadata": {},
   "outputs": [
    {
     "name": "stderr",
     "output_type": "stream",
     "text": [
      "C:\\Users\\Admin\\AppData\\Local\\Programs\\Python\\Python310\\lib\\site-packages\\sklearn\\base.py:450: UserWarning: X does not have valid feature names, but LinearRegression was fitted with feature names\n",
      "  warnings.warn(\n"
     ]
    },
    {
     "data": {
      "text/plain": [
       "2669.5608652168426"
      ]
     },
     "execution_count": 49,
     "metadata": {},
     "output_type": "execute_result"
    }
   ],
   "source": [
    "Sale         =10.00\n",
    "weight       =135.00\n",
    "resoloution  =5.20\n",
    "ppi          =424.00\n",
    "cpu_core      =8.00\n",
    "cpu_freq     =1.35\n",
    "internal_mem =16.00\n",
    "ram          =3.00\n",
    "RearCam      =13.00\n",
    "Front_Cam    = 8.00\n",
    "battery      =2610.00\n",
    "thickness    =7.40\n",
    "\n",
    "\n",
    "test_array = np.zeros(x.columns.shape,int)\n",
    "\n",
    "test_array[0] =Sale\n",
    "test_array[1] =weight\n",
    "test_array[2] =resoloution\n",
    "test_array[3] =ppi\n",
    "test_array[4] =cpu_core\n",
    "test_array[5] =cpu_freq\n",
    "test_array[6] =internal_mem\n",
    "test_array[7] = ram\n",
    "test_array[8] =RearCam\n",
    "test_array[9] =Front_Cam\n",
    "test_array[10] =battery\n",
    "test_array[11]=thickness\n",
    "\n",
    "\n",
    "predict_price = lin_reg.predict([test_array])[0]\n",
    "predict_price"
   ]
  },
  {
   "cell_type": "code",
   "execution_count": 65,
   "id": "3247bfe2",
   "metadata": {},
   "outputs": [],
   "source": [
    "import pickle\n",
    "import json"
   ]
  },
  {
   "cell_type": "code",
   "execution_count": 54,
   "id": "fadaeafd",
   "metadata": {},
   "outputs": [],
   "source": [
    "with open ('linear_reg.pkl','wb') as f:\n",
    "    \n",
    "    pickle.dump(lin_reg,f)"
   ]
  },
  {
   "cell_type": "code",
   "execution_count": 60,
   "id": "01011039",
   "metadata": {},
   "outputs": [],
   "source": [
    "project_data = {'columns': x.columns.tolist()}"
   ]
  },
  {
   "cell_type": "code",
   "execution_count": 61,
   "id": "4f4fc833",
   "metadata": {},
   "outputs": [
    {
     "data": {
      "text/plain": [
       "dict"
      ]
     },
     "execution_count": 61,
     "metadata": {},
     "output_type": "execute_result"
    }
   ],
   "source": [
    "type(project_data)"
   ]
  },
  {
   "cell_type": "code",
   "execution_count": 63,
   "id": "657a8bfa",
   "metadata": {},
   "outputs": [
    {
     "data": {
      "text/plain": [
       "12"
      ]
     },
     "execution_count": 63,
     "metadata": {},
     "output_type": "execute_result"
    }
   ],
   "source": [
    "len(project_data['columns'])"
   ]
  },
  {
   "cell_type": "code",
   "execution_count": 66,
   "id": "ac0f1987",
   "metadata": {},
   "outputs": [],
   "source": [
    "with open ('project_data.json','w') as f :\n",
    "    \n",
    "    json.dump(project_data,f)"
   ]
  },
  {
   "cell_type": "code",
   "execution_count": null,
   "id": "b670a7a7",
   "metadata": {},
   "outputs": [],
   "source": [
    "Sale         \n",
    "weight       \n",
    "resoloution  \n",
    "ppi          \n",
    "cpu_core      \n",
    "cpu_freq     \n",
    "internal_mem \n",
    "ram          \n",
    "RearCam      \n",
    "Front_Cam   \n",
    "battery     \n",
    "thickness   "
   ]
  }
 ],
 "metadata": {
  "kernelspec": {
   "display_name": "Python 3 (ipykernel)",
   "language": "python",
   "name": "python3"
  },
  "language_info": {
   "codemirror_mode": {
    "name": "ipython",
    "version": 3
   },
   "file_extension": ".py",
   "mimetype": "text/x-python",
   "name": "python",
   "nbconvert_exporter": "python",
   "pygments_lexer": "ipython3",
   "version": "3.10.6"
  }
 },
 "nbformat": 4,
 "nbformat_minor": 5
}
